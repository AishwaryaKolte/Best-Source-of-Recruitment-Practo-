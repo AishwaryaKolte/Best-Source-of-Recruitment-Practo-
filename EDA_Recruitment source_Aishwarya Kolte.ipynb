{
 "cells": [
  {
   "cell_type": "markdown",
   "id": "7b2b2d32",
   "metadata": {},
   "source": [
    "### Importing necessary libraries"
   ]
  },
  {
   "cell_type": "code",
   "execution_count": 1,
   "id": "d5885cc1",
   "metadata": {},
   "outputs": [],
   "source": [
    "import pandas as pd\n",
    "import numpy as np\n",
    "import matplotlib.pyplot as plt\n",
    "import seaborn as sn"
   ]
  },
  {
   "cell_type": "markdown",
   "id": "63fbe799",
   "metadata": {},
   "source": [
    "### Loading the dataset"
   ]
  },
  {
   "cell_type": "code",
   "execution_count": 2,
   "id": "53bbb0ad",
   "metadata": {},
   "outputs": [],
   "source": [
    "df = pd.read_csv(r'C:\\Users\\DELL\\Downloads\\Practo\\Recruitment_Data.csv')"
   ]
  },
  {
   "cell_type": "code",
   "execution_count": 3,
   "id": "ad74ef51",
   "metadata": {},
   "outputs": [
    {
     "data": {
      "text/html": [
       "<div>\n",
       "<style scoped>\n",
       "    .dataframe tbody tr th:only-of-type {\n",
       "        vertical-align: middle;\n",
       "    }\n",
       "\n",
       "    .dataframe tbody tr th {\n",
       "        vertical-align: top;\n",
       "    }\n",
       "\n",
       "    .dataframe thead th {\n",
       "        text-align: right;\n",
       "    }\n",
       "</style>\n",
       "<table border=\"1\" class=\"dataframe\">\n",
       "  <thead>\n",
       "    <tr style=\"text-align: right;\">\n",
       "      <th></th>\n",
       "      <th>attrition</th>\n",
       "      <th>performance_rating</th>\n",
       "      <th>sales_quota_pct</th>\n",
       "      <th>recruiting_source</th>\n",
       "    </tr>\n",
       "  </thead>\n",
       "  <tbody>\n",
       "    <tr>\n",
       "      <th>0</th>\n",
       "      <td>1</td>\n",
       "      <td>3</td>\n",
       "      <td>1.088190</td>\n",
       "      <td>Applied Online</td>\n",
       "    </tr>\n",
       "    <tr>\n",
       "      <th>1</th>\n",
       "      <td>0</td>\n",
       "      <td>3</td>\n",
       "      <td>2.394173</td>\n",
       "      <td>NaN</td>\n",
       "    </tr>\n",
       "    <tr>\n",
       "      <th>2</th>\n",
       "      <td>1</td>\n",
       "      <td>2</td>\n",
       "      <td>0.497530</td>\n",
       "      <td>Campus</td>\n",
       "    </tr>\n",
       "    <tr>\n",
       "      <th>3</th>\n",
       "      <td>0</td>\n",
       "      <td>2</td>\n",
       "      <td>2.513958</td>\n",
       "      <td>NaN</td>\n",
       "    </tr>\n",
       "    <tr>\n",
       "      <th>4</th>\n",
       "      <td>0</td>\n",
       "      <td>3</td>\n",
       "      <td>1.424789</td>\n",
       "      <td>Applied Online</td>\n",
       "    </tr>\n",
       "  </tbody>\n",
       "</table>\n",
       "</div>"
      ],
      "text/plain": [
       "   attrition  performance_rating  sales_quota_pct recruiting_source\n",
       "0          1                   3         1.088190    Applied Online\n",
       "1          0                   3         2.394173               NaN\n",
       "2          1                   2         0.497530            Campus\n",
       "3          0                   2         2.513958               NaN\n",
       "4          0                   3         1.424789    Applied Online"
      ]
     },
     "execution_count": 3,
     "metadata": {},
     "output_type": "execute_result"
    }
   ],
   "source": [
    "# Viewing the first 5 rows\n",
    "df.head()"
   ]
  },
  {
   "cell_type": "code",
   "execution_count": 4,
   "id": "35b55ac9",
   "metadata": {},
   "outputs": [
    {
     "data": {
      "text/plain": [
       "(446, 4)"
      ]
     },
     "execution_count": 4,
     "metadata": {},
     "output_type": "execute_result"
    }
   ],
   "source": [
    "# Dimenisions of the data\n",
    "df.shape"
   ]
  },
  {
   "cell_type": "code",
   "execution_count": 5,
   "id": "a1d1257c",
   "metadata": {},
   "outputs": [
    {
     "data": {
      "text/html": [
       "<div>\n",
       "<style scoped>\n",
       "    .dataframe tbody tr th:only-of-type {\n",
       "        vertical-align: middle;\n",
       "    }\n",
       "\n",
       "    .dataframe tbody tr th {\n",
       "        vertical-align: top;\n",
       "    }\n",
       "\n",
       "    .dataframe thead th {\n",
       "        text-align: right;\n",
       "    }\n",
       "</style>\n",
       "<table border=\"1\" class=\"dataframe\">\n",
       "  <thead>\n",
       "    <tr style=\"text-align: right;\">\n",
       "      <th></th>\n",
       "      <th>attrition</th>\n",
       "      <th>performance_rating</th>\n",
       "      <th>sales_quota_pct</th>\n",
       "    </tr>\n",
       "  </thead>\n",
       "  <tbody>\n",
       "    <tr>\n",
       "      <th>count</th>\n",
       "      <td>446.000000</td>\n",
       "      <td>446.000000</td>\n",
       "      <td>446.000000</td>\n",
       "    </tr>\n",
       "    <tr>\n",
       "      <th>mean</th>\n",
       "      <td>0.213004</td>\n",
       "      <td>2.894619</td>\n",
       "      <td>1.082607</td>\n",
       "    </tr>\n",
       "    <tr>\n",
       "      <th>std</th>\n",
       "      <td>0.409891</td>\n",
       "      <td>0.683755</td>\n",
       "      <td>0.710042</td>\n",
       "    </tr>\n",
       "    <tr>\n",
       "      <th>min</th>\n",
       "      <td>0.000000</td>\n",
       "      <td>1.000000</td>\n",
       "      <td>-0.710827</td>\n",
       "    </tr>\n",
       "    <tr>\n",
       "      <th>25%</th>\n",
       "      <td>0.000000</td>\n",
       "      <td>2.000000</td>\n",
       "      <td>0.584444</td>\n",
       "    </tr>\n",
       "    <tr>\n",
       "      <th>50%</th>\n",
       "      <td>0.000000</td>\n",
       "      <td>3.000000</td>\n",
       "      <td>1.070143</td>\n",
       "    </tr>\n",
       "    <tr>\n",
       "      <th>75%</th>\n",
       "      <td>0.000000</td>\n",
       "      <td>3.000000</td>\n",
       "      <td>1.532488</td>\n",
       "    </tr>\n",
       "    <tr>\n",
       "      <th>max</th>\n",
       "      <td>1.000000</td>\n",
       "      <td>5.000000</td>\n",
       "      <td>3.666740</td>\n",
       "    </tr>\n",
       "  </tbody>\n",
       "</table>\n",
       "</div>"
      ],
      "text/plain": [
       "        attrition  performance_rating  sales_quota_pct\n",
       "count  446.000000          446.000000       446.000000\n",
       "mean     0.213004            2.894619         1.082607\n",
       "std      0.409891            0.683755         0.710042\n",
       "min      0.000000            1.000000        -0.710827\n",
       "25%      0.000000            2.000000         0.584444\n",
       "50%      0.000000            3.000000         1.070143\n",
       "75%      0.000000            3.000000         1.532488\n",
       "max      1.000000            5.000000         3.666740"
      ]
     },
     "execution_count": 5,
     "metadata": {},
     "output_type": "execute_result"
    }
   ],
   "source": [
    "# Summary statistics of the date\n",
    "df.describe()"
   ]
  },
  {
   "cell_type": "markdown",
   "id": "200dbcd4",
   "metadata": {},
   "source": [
    "### Checking the null values"
   ]
  },
  {
   "cell_type": "code",
   "execution_count": 6,
   "id": "e061e975",
   "metadata": {},
   "outputs": [
    {
     "data": {
      "text/plain": [
       "attrition               0\n",
       "performance_rating      0\n",
       "sales_quota_pct         0\n",
       "recruiting_source     205\n",
       "dtype: int64"
      ]
     },
     "execution_count": 6,
     "metadata": {},
     "output_type": "execute_result"
    }
   ],
   "source": [
    "df.isna().sum()"
   ]
  },
  {
   "cell_type": "code",
   "execution_count": 7,
   "id": "4f932c37",
   "metadata": {},
   "outputs": [
    {
     "name": "stdout",
     "output_type": "stream",
     "text": [
      "Unique Recruiting Sources: ['Applied Online' nan 'Campus' 'Referral' 'Search Firm']\n"
     ]
    }
   ],
   "source": [
    "#Checking the unique values in recruitment_source column where we have missing values\n",
    "unique_sources = df['recruiting_source'].unique()\n",
    "print(f\"Unique Recruiting Sources: {unique_sources}\")"
   ]
  },
  {
   "cell_type": "code",
   "execution_count": 8,
   "id": "6829362a",
   "metadata": {},
   "outputs": [
    {
     "name": "stdout",
     "output_type": "stream",
     "text": [
      "There is 46% data missing from recruiting_source.\n"
     ]
    }
   ],
   "source": [
    "missing_val_percentage = round(df['recruiting_source'].isna().sum()/len(df)*100)\n",
    "print(f\"There is {missing_val_percentage}% data missing from recruiting_source.\")"
   ]
  },
  {
   "cell_type": "code",
   "execution_count": 9,
   "id": "31bcc548",
   "metadata": {},
   "outputs": [],
   "source": [
    "#Given the significant percentage of missing values, imputing them with methods like k-NN or summary statistics may introduce biases or underfit the actual patterns in the data.\n",
    "#Using more advanced imputation techniques could potentially lead to overfitting or the introduction of noise, especially if the missing values represent a unique or specific condition.\n",
    "#I've decided to impute the missing values as \"Walk-in\" or \"Direct Interviews,\" which is suitable given the context of this data."
   ]
  },
  {
   "cell_type": "code",
   "execution_count": 10,
   "id": "45cbb19f",
   "metadata": {},
   "outputs": [],
   "source": [
    "# Replace missing values in 'recruiting_source' with the category 'Walk In'.\n",
    "df.fillna(\"Walk In\",inplace=True)"
   ]
  },
  {
   "cell_type": "code",
   "execution_count": 11,
   "id": "d91193fb",
   "metadata": {},
   "outputs": [
    {
     "data": {
      "text/plain": [
       "0"
      ]
     },
     "execution_count": 11,
     "metadata": {},
     "output_type": "execute_result"
    }
   ],
   "source": [
    "# Checking if the dataset contains duplicate values\n",
    "df.duplicated().sum()"
   ]
  },
  {
   "cell_type": "markdown",
   "id": "50ac3825",
   "metadata": {},
   "source": [
    "### Getting Average Sales Numbers and Attrition Numbers"
   ]
  },
  {
   "cell_type": "code",
   "execution_count": 12,
   "id": "608d633e",
   "metadata": {},
   "outputs": [
    {
     "data": {
      "text/html": [
       "<div>\n",
       "<style scoped>\n",
       "    .dataframe tbody tr th:only-of-type {\n",
       "        vertical-align: middle;\n",
       "    }\n",
       "\n",
       "    .dataframe tbody tr th {\n",
       "        vertical-align: top;\n",
       "    }\n",
       "\n",
       "    .dataframe thead th {\n",
       "        text-align: right;\n",
       "    }\n",
       "</style>\n",
       "<table border=\"1\" class=\"dataframe\">\n",
       "  <thead>\n",
       "    <tr style=\"text-align: right;\">\n",
       "      <th></th>\n",
       "      <th>recruiting_source</th>\n",
       "      <th>total_attrition</th>\n",
       "      <th>total_recruits</th>\n",
       "      <th>average_sales</th>\n",
       "      <th>average_attrition</th>\n",
       "    </tr>\n",
       "  </thead>\n",
       "  <tbody>\n",
       "    <tr>\n",
       "      <th>4</th>\n",
       "      <td>Walk In</td>\n",
       "      <td>27</td>\n",
       "      <td>205</td>\n",
       "      <td>1.168109</td>\n",
       "      <td>13.17</td>\n",
       "    </tr>\n",
       "    <tr>\n",
       "      <th>0</th>\n",
       "      <td>Applied Online</td>\n",
       "      <td>32</td>\n",
       "      <td>130</td>\n",
       "      <td>1.058590</td>\n",
       "      <td>24.62</td>\n",
       "    </tr>\n",
       "    <tr>\n",
       "      <th>2</th>\n",
       "      <td>Referral</td>\n",
       "      <td>15</td>\n",
       "      <td>45</td>\n",
       "      <td>1.023198</td>\n",
       "      <td>33.33</td>\n",
       "    </tr>\n",
       "    <tr>\n",
       "      <th>1</th>\n",
       "      <td>Campus</td>\n",
       "      <td>16</td>\n",
       "      <td>56</td>\n",
       "      <td>0.908035</td>\n",
       "      <td>28.57</td>\n",
       "    </tr>\n",
       "    <tr>\n",
       "      <th>3</th>\n",
       "      <td>Search Firm</td>\n",
       "      <td>5</td>\n",
       "      <td>10</td>\n",
       "      <td>0.886960</td>\n",
       "      <td>50.00</td>\n",
       "    </tr>\n",
       "  </tbody>\n",
       "</table>\n",
       "</div>"
      ],
      "text/plain": [
       "  recruiting_source  total_attrition  total_recruits  average_sales  \\\n",
       "4           Walk In               27             205       1.168109   \n",
       "0    Applied Online               32             130       1.058590   \n",
       "2          Referral               15              45       1.023198   \n",
       "1            Campus               16              56       0.908035   \n",
       "3       Search Firm                5              10       0.886960   \n",
       "\n",
       "   average_attrition  \n",
       "4              13.17  \n",
       "0              24.62  \n",
       "2              33.33  \n",
       "1              28.57  \n",
       "3              50.00  "
      ]
     },
     "execution_count": 12,
     "metadata": {},
     "output_type": "execute_result"
    }
   ],
   "source": [
    "# Group the df by the \"recruiting_source\" column\n",
    "grouped = df.groupby(\"recruiting_source\").agg(\n",
    "    total_attrition=(\"attrition\", \"sum\"),  # Calculate the total attrition for each recruiting source\n",
    "    total_recruits=(\"attrition\", \"count\"),  # Count the total number of recruits for each source\n",
    "    average_sales=(\"sales_quota_pct\", \"mean\")  # Calculate the average sales quota percentage for each source\n",
    ").reset_index()  # Reset the index to make the resulting DataFrame more readable\n",
    "\n",
    "\n",
    "# Calculate the average attrition rate for each recruiting source\n",
    "grouped['average_attrition'] = round(grouped['total_attrition'] / grouped['total_recruits'] * 100, 2)\n",
    "\n",
    "#We will sort the df to find the recuriting_source with lowest attrition  rate and high average sales\n",
    "grouped.sort_values(by=[\"average_sales\",\"average_attrition\"],ascending=[0,1])\n",
    "\n",
    "\n",
    "# Walk-in interviews are the primary source of recruits for the company, followed by online recruits.\n",
    "# Walk-in hires exhibit the highest average sales, indicating strong performance, with online recruits following closely.\n",
    "# Walk-in interviews demonstrate the lowest average attrition, suggesting better retention, followed by online recruits."
   ]
  },
  {
   "cell_type": "markdown",
   "id": "060641be",
   "metadata": {},
   "source": [
    "### EDA"
   ]
  },
  {
   "cell_type": "markdown",
   "id": "9d01dcc3",
   "metadata": {},
   "source": [
    "#### Attrition Analysis by Recruiting Sources:\n",
    "* Optimal sources are determined by their lower attrition rates.\n",
    "* Missing data, assumed as direct or walk-in recruits, show the lowest attrition.\n",
    "* Applied Online and campus recruitment are next, while referrals and search firms exhibit the highest attrition, with search firms identified as the least favorable in terms of attrition performance."
   ]
  },
  {
   "cell_type": "code",
   "execution_count": 13,
   "id": "046275e5",
   "metadata": {},
   "outputs": [
    {
     "data": {
      "text/plain": [
       "Text(0, 0.5, 'Average_Attrition')"
      ]
     },
     "execution_count": 13,
     "metadata": {},
     "output_type": "execute_result"
    },
    {
     "data": {
      "image/png": "[encoded data removed]",
      "text/plain": [
       "<Figure size 1500x500 with 1 Axes>"
      ]
     },
     "metadata": {},
     "output_type": "display_data"
    }
   ],
   "source": [
    "plt.figure(figsize=(15,5))\n",
    "sn.barplot(data=grouped,x=\"recruiting_source\",y=\"average_attrition\",\n",
    "          order=grouped.sort_values(\"average_attrition\").recruiting_source)\n",
    "plt.title(\"Average Attrition by Recruiting source\")\n",
    "plt.xlabel(\"Recruiting_Source\")\n",
    "plt.ylabel(\"Average_Attrition\")"
   ]
  },
  {
   "cell_type": "markdown",
   "id": "e3a30789",
   "metadata": {},
   "source": [
    "#### Sales Performance by Source:\n",
    "* Optimal recruiting sources are identified by their highest average sales.\n",
    "* Missing data, presumed as direct or walk-in recruits, exhibit the highest average sales.\n",
    "* Applied Online and referrals are also strong performers, while campus and search firm sources demonstrate lower average sales, with search firms being the least favorable in terms of sales performance."
   ]
  },
  {
   "cell_type": "code",
   "execution_count": 14,
   "id": "199f00dc",
   "metadata": {},
   "outputs": [
    {
     "data": {
      "image/png": "[encoded data removed]",
      "text/plain": [
       "<Figure size 1500x500 with 1 Axes>"
      ]
     },
     "metadata": {},
     "output_type": "display_data"
    }
   ],
   "source": [
    "grouped_sorted = grouped.sort_values(\"average_sales\", ascending=False)\n",
    "\n",
    "# Customize the colors for the bars\n",
    "colors = [\"#00ff00\", \"#ff00ff\", \"#ccff00\", \"#00ffff\", \"#ff9900\"]\n",
    "\n",
    "plt.figure(figsize=(15, 5))\n",
    "plt.bar(grouped_sorted['recruiting_source'], grouped_sorted['average_sales'], color=colors)\n",
    "plt.title(\"Average Sales by Recruiting Source\")\n",
    "plt.xlabel(\"Recruiting Source\")\n",
    "plt.ylabel(\"Average Sales\")\n",
    "plt.show()"
   ]
  },
  {
   "cell_type": "markdown",
   "id": "175a5ebd",
   "metadata": {},
   "source": [
    "### Conclusion\n",
    "* Based on our EDA, Walk-in and Online Recruitment emerge as the most effective strategies. \n",
    "* These approaches exhibit the lowest attrition rates and highest average sales, making them optimal choices for recruitment.\n",
    "* These findings suggest that focusing on these recruitment strategies can contribute positively to the company's overall performance and employee retention."
   ]
  }
 ],
 "metadata": {
  "kernelspec": {
   "display_name": "Python 3 (ipykernel)",
   "language": "python",
   "name": "python3"
  },
  "language_info": {
   "codemirror_mode": {
    "name": "ipython",
    "version": 3
   },
   "file_extension": ".py",
   "mimetype": "text/x-python",
   "name": "python",
   "nbconvert_exporter": "python",
   "pygments_lexer": "ipython3",
   "version": "3.10.9"
  }
 },
 "nbformat": 4,
 "nbformat_minor": 5
}
